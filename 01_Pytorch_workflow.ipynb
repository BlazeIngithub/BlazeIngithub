{
  "nbformat": 4,
  "nbformat_minor": 0,
  "metadata": {
    "colab": {
      "provenance": [],
      "gpuType": "T4",
      "authorship_tag": "ABX9TyOfrf6LSODaEyxuNzC/vRJ/",
      "include_colab_link": true
    },
    "kernelspec": {
      "name": "python3",
      "display_name": "Python 3"
    },
    "language_info": {
      "name": "python"
    },
    "accelerator": "GPU"
  },
  "cells": [
    {
      "cell_type": "markdown",
      "metadata": {
        "id": "view-in-github",
        "colab_type": "text"
      },
      "source": [
        "<a href=\"https://colab.research.google.com/github/BlazeIngithub/BlazeIngithub/blob/main/01_Pytorch_workflow.ipynb\" target=\"_parent\"><img src=\"https://colab.research.google.com/assets/colab-badge.svg\" alt=\"Open In Colab\"/></a>"
      ]
    },
    {
      "cell_type": "code",
      "execution_count": 34,
      "metadata": {
        "id": "VAnva6CLbYSQ"
      },
      "outputs": [],
      "source": []
    },
    {
      "cell_type": "markdown",
      "source": [
        "### **Pytorch workflow**"
      ],
      "metadata": {
        "id": "qi3ujAcBbjH4"
      }
    },
    {
      "cell_type": "code",
      "source": [
        "import torch\n",
        "from torch import nn # nn contains all the pytorch's building blocks for neaural networks\n",
        "import matplotlib.pyplot as plt\n",
        "\n",
        "#check pytorch version\n",
        "\n",
        "torch.__version__\n"
      ],
      "metadata": {
        "colab": {
          "base_uri": "https://localhost:8080/",
          "height": 35
        },
        "id": "1q-ZVMuubn5t",
        "outputId": "a2111e9e-ff03-42ec-d630-7cfb4858ec25"
      },
      "execution_count": 35,
      "outputs": [
        {
          "output_type": "execute_result",
          "data": {
            "text/plain": [
              "'2.8.0+cu126'"
            ],
            "application/vnd.google.colaboratory.intrinsic+json": {
              "type": "string"
            }
          },
          "metadata": {},
          "execution_count": 35
        }
      ]
    },
    {
      "cell_type": "markdown",
      "source": [
        "## Data preparing and loading\n",
        "\n",
        "* Excel spreadsheet\n",
        "* Image of any kind\n",
        "* Videos\n",
        "* Audio like songs or podcast\n",
        "* DNA\n",
        "* Text etc\n",
        "\n",
        "Machine learning is a game of 2 parts:\n",
        "1. Get data into a numerical representation.\n",
        "2. Build a model to learn patterns in that numerical representation\n",
        "\n",
        "To showcase this, let's recreate some *known* data using the linear regression fromula\n",
        "\n",
        "We'll use a linear regression formula to make a straight like with known parameters"
      ],
      "metadata": {
        "id": "eYi39VCfdSIA"
      }
    },
    {
      "cell_type": "code",
      "source": [
        "#create *known* parameters\n",
        "\n",
        "weight= 0.7\n",
        "bias= 0.3\n",
        "\n",
        "#create\n",
        "\n",
        "start= 0\n",
        "end= 1\n",
        "step= 0.02\n",
        "X= torch.arange(start, end, step).unsqueeze(dim=1)\n",
        "Y= weight* X + bias\n",
        "\n",
        "X[:10], Y[:10]"
      ],
      "metadata": {
        "colab": {
          "base_uri": "https://localhost:8080/"
        },
        "id": "TDEDYNhjc2rA",
        "outputId": "66519401-bfb8-4196-81e2-2f36834553ff"
      },
      "execution_count": 36,
      "outputs": [
        {
          "output_type": "execute_result",
          "data": {
            "text/plain": [
              "(tensor([[0.0000],\n",
              "         [0.0200],\n",
              "         [0.0400],\n",
              "         [0.0600],\n",
              "         [0.0800],\n",
              "         [0.1000],\n",
              "         [0.1200],\n",
              "         [0.1400],\n",
              "         [0.1600],\n",
              "         [0.1800]]),\n",
              " tensor([[0.3000],\n",
              "         [0.3140],\n",
              "         [0.3280],\n",
              "         [0.3420],\n",
              "         [0.3560],\n",
              "         [0.3700],\n",
              "         [0.3840],\n",
              "         [0.3980],\n",
              "         [0.4120],\n",
              "         [0.4260]]))"
            ]
          },
          "metadata": {},
          "execution_count": 36
        }
      ]
    },
    {
      "cell_type": "code",
      "source": [
        "len(X), len(Y)"
      ],
      "metadata": {
        "colab": {
          "base_uri": "https://localhost:8080/"
        },
        "id": "2-IH1krUe0VA",
        "outputId": "9f266695-993c-48ef-d33a-9bd5bd716ef6"
      },
      "execution_count": 37,
      "outputs": [
        {
          "output_type": "execute_result",
          "data": {
            "text/plain": [
              "(50, 50)"
            ]
          },
          "metadata": {},
          "execution_count": 37
        }
      ]
    },
    {
      "cell_type": "markdown",
      "source": [
        "### Splitting data into training and test\n",
        "\n",
        "> let's create a training and test data\n",
        "\n"
      ],
      "metadata": {
        "id": "J0CdjZNwx1vf"
      }
    },
    {
      "cell_type": "code",
      "source": [
        "#create train test split\n",
        "\n",
        "train_split= int(0.8 * len(X))\n",
        "\n",
        "train_split"
      ],
      "metadata": {
        "colab": {
          "base_uri": "https://localhost:8080/"
        },
        "id": "SSepW2SVxmvm",
        "outputId": "97d1e7e1-763f-44fa-a8b0-fc0a2aaa52d1"
      },
      "execution_count": 38,
      "outputs": [
        {
          "output_type": "execute_result",
          "data": {
            "text/plain": [
              "40"
            ]
          },
          "metadata": {},
          "execution_count": 38
        }
      ]
    },
    {
      "cell_type": "code",
      "source": [
        "X_train, Y_train= X[:train_split], Y[:train_split]\n",
        "X_test, Y_test= X[train_split:], Y[train_split: ]\n",
        "\n",
        "len(X_train), len(Y_train), len(X_test), len(Y_test)"
      ],
      "metadata": {
        "colab": {
          "base_uri": "https://localhost:8080/"
        },
        "id": "P2DS0uinfi-Y",
        "outputId": "d0ef6764-a895-4485-fa2d-b4f68e6682f8"
      },
      "execution_count": 39,
      "outputs": [
        {
          "output_type": "execute_result",
          "data": {
            "text/plain": [
              "(40, 40, 10, 10)"
            ]
          },
          "metadata": {},
          "execution_count": 39
        }
      ]
    },
    {
      "cell_type": "code",
      "source": [
        "#Building a function to visualise our model\n",
        "def plot_predictions(train_data= X_train,\n",
        "                     train_labels=Y_train,\n",
        "                     test_data= X_test,\n",
        "                     test_labels= Y_test,\n",
        "                     predictions= None):\n",
        "\n",
        "  \"\"\"\n",
        "  Plots training data and test data and compares predictions\n",
        "  \"\"\"\n",
        "  plt.figure(figsize=(10, 7))\n",
        "\n",
        "#plot training data in blue\n",
        "\n",
        "  plt.scatter(train_data, train_labels, c=\"b\", s=4, label=\"Training Data\")\n",
        "\n",
        "#plot test data in green\n",
        "  plt.scatter(test_data, test_labels, c=\"g\", s=4, label=\"Test Data\"  )\n",
        "\n",
        "#Are there predictions\n",
        "\n",
        "  if predictions is not None:\n",
        "  #plot the predictions if they exist\n",
        "    plt.scatter(test_data, predictions, c=\"r\", s= 4, label= \"predictions\")\n",
        "\n",
        "#show the legends\n",
        "\n",
        "  plt.legend(prop={\"size\": 14});"
      ],
      "metadata": {
        "id": "51wobXfD19Fu"
      },
      "execution_count": 40,
      "outputs": []
    },
    {
      "cell_type": "code",
      "source": [
        "plot_predictions()"
      ],
      "metadata": {
        "colab": {
          "base_uri": "https://localhost:8080/",
          "height": 599
        },
        "id": "Li28ZQ0V5Mr3",
        "outputId": "49e5a5d5-97ef-48cc-c542-7023143f330c"
      },
      "execution_count": 41,
      "outputs": [
        {
          "output_type": "display_data",
          "data": {
            "text/plain": [
              "<Figure size 1000x700 with 1 Axes>"
            ],
            "image/png": "[encoded data removed]"
          },
          "metadata": {}
        }
      ]
    },
    {
      "cell_type": "markdown",
      "source": [
        "2. Build Model\n",
        "\n",
        "Our first Pytorch Model!\n",
        "\n",
        "Prequisite- OOP- https://realpython.com/python-classes/#defining-a-class-in-python\n",
        "\n",
        "\n",
        "What our model does:\n",
        "* start with random values(weight and bias)\n",
        "* Look at the training and adjust the random values to better represent the ideal values(the weight and biase value we use to create the data)\n",
        "\n",
        "How does it do so?\n",
        "\n",
        "Through two main algorith:\n",
        "1. Gradient descent\n",
        "2. Backpropagation\n"
      ],
      "metadata": {
        "id": "FnPsTUHr8tuc"
      }
    },
    {
      "cell_type": "code",
      "source": [
        "#Create Linear regression model class\n",
        "\n",
        "class LinearRegressionModel(nn.Module):\n",
        "  def __init__(self):\n",
        "    super().__init__()\n",
        "    self.weight= nn.Parameter(torch.randn(1, requires_grad=True, dtype=torch.float))\n",
        "    self.bias= nn.Parameter(torch.randn(1, requires_grad=True, dtype=torch.float))\n",
        "\n",
        "#forward method to define computation in the model\n",
        "\n",
        "  def forward(self, x: torch.tensor)->torch.tensor: #<- \"x\" is the input data\n",
        "    return self.weight* x + self.bias  #this is a linear regression formula\n",
        "\n"
      ],
      "metadata": {
        "id": "uuDFAxgn8lgW"
      },
      "execution_count": 42,
      "outputs": []
    },
    {
      "cell_type": "markdown",
      "source": [
        "### Pytorch model building essentials\n",
        "\n",
        "* **torch.nn** - contains all the builds for for computational graps(a neaural network can be consider a computational grap)\n",
        "* **torch.nn.Parameter** - what paramer should our model try and learn, often a pytorch Layer from torch.nn will set these for us.\n",
        "* **torch.nn.Module**- Base class for all neaural network modules\n",
        "* **torch.optim**- Optimiser in pytorch\n",
        "* **def forward()** - all nn.Module subclassed require you to overwrite  \n",
        "\n"
      ],
      "metadata": {
        "id": "GkVQr_72JyM8"
      }
    },
    {
      "cell_type": "markdown",
      "source": [
        "### Checking the content of a pytorch model\n",
        "\n",
        "Now we have created a model let's see what inside our model using .parameter()"
      ],
      "metadata": {
        "id": "ypN7TQLYN-Ea"
      }
    },
    {
      "cell_type": "code",
      "source": [
        "# Create a random seed\n",
        "\n",
        "torch.manual_seed(42)\n",
        "\n",
        "#create an instance of the model(this is a subclass of nn.Module)\n",
        "\n",
        "model_0= LinearRegressionModel()\n",
        "\n",
        "#check out the parameters\n",
        "\n",
        "list(model_0.parameters())\n"
      ],
      "metadata": {
        "colab": {
          "base_uri": "https://localhost:8080/"
        },
        "id": "EblRW-QtIoQZ",
        "outputId": "5a2fa49f-32c1-48ec-c73b-01652a321ea0"
      },
      "execution_count": 43,
      "outputs": [
        {
          "output_type": "execute_result",
          "data": {
            "text/plain": [
              "[Parameter containing:\n",
              " tensor([0.3367], requires_grad=True),\n",
              " Parameter containing:\n",
              " tensor([0.1288], requires_grad=True)]"
            ]
          },
          "metadata": {},
          "execution_count": 43
        }
      ]
    },
    {
      "cell_type": "code",
      "source": [
        "# List names parameter\n",
        "model_0.state_dict()"
      ],
      "metadata": {
        "colab": {
          "base_uri": "https://localhost:8080/"
        },
        "id": "f9lWcIsPOrpx",
        "outputId": "b6711f18-0352-4104-9ba9-04a151b281cf"
      },
      "execution_count": 44,
      "outputs": [
        {
          "output_type": "execute_result",
          "data": {
            "text/plain": [
              "OrderedDict([('weight', tensor([0.3367])), ('bias', tensor([0.1288]))])"
            ]
          },
          "metadata": {},
          "execution_count": 44
        }
      ]
    },
    {
      "cell_type": "code",
      "source": [
        "weight, bias #our goal is to get this value as much as we can"
      ],
      "metadata": {
        "colab": {
          "base_uri": "https://localhost:8080/"
        },
        "id": "dsI14tk8Qorf",
        "outputId": "bb752050-9be5-4f59-beee-95db0e7c4c71"
      },
      "execution_count": 45,
      "outputs": [
        {
          "output_type": "execute_result",
          "data": {
            "text/plain": [
              "(0.7, 0.3)"
            ]
          },
          "metadata": {},
          "execution_count": 45
        }
      ]
    },
    {
      "cell_type": "markdown",
      "source": [
        "### Making prediction using 'torch.inference_mode()'\n",
        "\n",
        "To check our model's predictive power, let's see how well it predict 'y_test' based on 'x_test'\n",
        "\n",
        "When we pass data through our model it is going to run it through the forward() method"
      ],
      "metadata": {
        "id": "aBcioiTve72n"
      }
    },
    {
      "cell_type": "code",
      "source": [
        "#Make predictions with Model\n",
        "\n",
        "with torch.inference_mode():\n",
        "  y_preds = model_0(X_test)\n",
        "y_preds"
      ],
      "metadata": {
        "colab": {
          "base_uri": "https://localhost:8080/"
        },
        "id": "7oHtBHeaQ0YX",
        "outputId": "8e59969c-2ab0-4b7c-e164-c9253a6cfc6b"
      },
      "execution_count": 46,
      "outputs": [
        {
          "output_type": "execute_result",
          "data": {
            "text/plain": [
              "tensor([[0.3982],\n",
              "        [0.4049],\n",
              "        [0.4116],\n",
              "        [0.4184],\n",
              "        [0.4251],\n",
              "        [0.4318],\n",
              "        [0.4386],\n",
              "        [0.4453],\n",
              "        [0.4520],\n",
              "        [0.4588]])"
            ]
          },
          "metadata": {},
          "execution_count": 46
        }
      ]
    },
    {
      "cell_type": "code",
      "source": [
        "Y_test"
      ],
      "metadata": {
        "colab": {
          "base_uri": "https://localhost:8080/"
        },
        "id": "FJi-7WwJf_Uq",
        "outputId": "dd47cf89-f2f7-43cc-fd09-f8992aafe8df"
      },
      "execution_count": 47,
      "outputs": [
        {
          "output_type": "execute_result",
          "data": {
            "text/plain": [
              "tensor([[0.8600],\n",
              "        [0.8740],\n",
              "        [0.8880],\n",
              "        [0.9020],\n",
              "        [0.9160],\n",
              "        [0.9300],\n",
              "        [0.9440],\n",
              "        [0.9580],\n",
              "        [0.9720],\n",
              "        [0.9860]])"
            ]
          },
          "metadata": {},
          "execution_count": 47
        }
      ]
    },
    {
      "cell_type": "code",
      "source": [
        "plot_predictions(predictions= y_preds)"
      ],
      "metadata": {
        "colab": {
          "base_uri": "https://localhost:8080/",
          "height": 599
        },
        "id": "BCHX2OlagBIQ",
        "outputId": "92961fc1-aa4e-46e6-dde1-246a5022f902"
      },
      "execution_count": 48,
      "outputs": [
        {
          "output_type": "display_data",
          "data": {
            "text/plain": [
              "<Figure size 1000x700 with 1 Axes>"
            ],
            "image/png": "[encoded data removed]"
          },
          "metadata": {}
        }
      ]
    },
    {
      "cell_type": "code",
      "source": [],
      "metadata": {
        "id": "zy5CN0dHlR_p"
      },
      "execution_count": 48,
      "outputs": []
    },
    {
      "cell_type": "markdown",
      "source": [
        "### Train Model\n",
        "\n",
        "The whole idea of training for a model to move from some unkown parameters(these may be random) to some known parameters\n",
        "\n",
        "Or in other words from a poor representation of a data to better representation\n",
        "\n",
        "* Note: Loss function may also be called cost functions or creterion in different area. for our case, we're are going to refer it as Loss function\n",
        "\n",
        "* **Optimizer** takes into account the loss model to adjust the model parameters(e.g. weights, bias)\n",
        "\n",
        "And specifically for pytorch, we need:\n",
        "  * training loop\n",
        "  * a testing loop"
      ],
      "metadata": {
        "id": "o2MNqsrSne0x"
      }
    },
    {
      "cell_type": "code",
      "source": [
        "# setup a loss function\n",
        "\n",
        "loss_fn = nn.L1Loss()\n",
        "\n",
        "#setup and optimizer\n",
        "\n",
        "optimizer= torch.optim.SGD(params= model_0.parameters(), lr=0.01) #lr= learning rate= possibility of most important hyper parameter"
      ],
      "metadata": {
        "id": "zdISoPAnniQM"
      },
      "execution_count": 49,
      "outputs": []
    },
    {
      "cell_type": "markdown",
      "source": [
        "Q.What loss function and optimizer should I use?\n",
        "A. This will be problem specific. But with experience, you'll get an idea of what works and what doesn't with your particular problem set.\n",
        "\n",
        "for eg, for regression problem, a loss function of nn.L1Loss() and an optimizer like torch.optim.SGD() will suffic.\n",
        "\n",
        "But for a classification problem like classifying whethere a photo is of a dog or cat, you'll likely want to use a loss function of nn.BCELoss()- Binary cross entropy loss"
      ],
      "metadata": {
        "id": "cB0LefTUE4oT"
      }
    },
    {
      "cell_type": "markdown",
      "source": [
        "### Building a training loop(and a testing loop) in pytorch\n",
        "\n",
        "A couple of things we need in a training loop\n",
        "0. loop through data\n",
        "1.   forward pass - this involve data moving through our model to make predictions on data- also forward propagation\n",
        "2.   calculate the loss(compare forward pass predictions to ground truth labels)\n",
        "3. Optimizer zero grad\n",
        "4. Loss Backward- move backward through the network to calculate the gradients of each of the parameter of our model with respect to the loss- **Back propagation**\n",
        "5. Optimizer step- use the optimizer to adjust our model's paramets to try and improve the loss (**gradient descent**)\n",
        "\n",
        "\n",
        "\n"
      ],
      "metadata": {
        "id": "BzLC5Vr9GF-d"
      }
    },
    {
      "cell_type": "code",
      "source": [
        "list(model_0.parameters())"
      ],
      "metadata": {
        "colab": {
          "base_uri": "https://localhost:8080/"
        },
        "id": "u0UJi7olIjaH",
        "outputId": "ca3c96c6-6daa-4fa7-9297-3017c1fea848"
      },
      "execution_count": 50,
      "outputs": [
        {
          "output_type": "execute_result",
          "data": {
            "text/plain": [
              "[Parameter containing:\n",
              " tensor([0.3367], requires_grad=True),\n",
              " Parameter containing:\n",
              " tensor([0.1288], requires_grad=True)]"
            ]
          },
          "metadata": {},
          "execution_count": 50
        }
      ]
    },
    {
      "cell_type": "code",
      "source": [
        "torch.manual_seed(42)\n",
        "\n",
        "# An epoch is one loop through the data...(this is a hyperparameter because we've set it)\n",
        "\n",
        "epochs= 100\n",
        "\n",
        "#0. Loop through the training data\n",
        "\n",
        "for epoch in range(epochs):\n",
        "  #set the model to training mode\n",
        "  model_0.train()   #train mode in pytorh set all parameter that require gradient\n",
        "\n",
        "  #1. forward pass\n",
        "\n",
        "  y_pred= model_0(X_train)\n",
        "\n",
        "  #2. Calculate the loss\n",
        "  loss= loss_fn(y_pred, Y_train)\n",
        "  print(f\"Loss- {loss}\")\n",
        "\n",
        "  #3. optimizer zero grad\n",
        "  optimizer.zero_grad()\n",
        "\n",
        "  #4. Perform back propagation on the loss with respect to the parameter of the model\n",
        "  loss.backward() #by default how the optimizer changes will accumulate through the loop....we have to zero them above in step 3 for the next iteration of the loop\n",
        "\n",
        "  #5. step the optimizer(perform gradient descend)\n",
        "  optimizer.step()\n"
      ],
      "metadata": {
        "colab": {
          "base_uri": "https://localhost:8080/"
        },
        "id": "pV4FTQAIGM1S",
        "outputId": "dcda161f-4c2c-4f60-a0b5-786facba2af7"
      },
      "execution_count": 51,
      "outputs": [
        {
          "output_type": "stream",
          "name": "stdout",
          "text": [
            "Loss- 0.31288138031959534\n",
            "Loss- 0.3013603389263153\n",
            "Loss- 0.28983935713768005\n",
            "Loss- 0.2783183455467224\n",
            "Loss- 0.26679736375808716\n",
            "Loss- 0.2552763521671295\n",
            "Loss- 0.24375534057617188\n",
            "Loss- 0.23223432898521423\n",
            "Loss- 0.22071333229541779\n",
            "Loss- 0.20919232070446014\n",
            "Loss- 0.1976713240146637\n",
            "Loss- 0.18615034222602844\n",
            "Loss- 0.1746293306350708\n",
            "Loss- 0.16310831904411316\n",
            "Loss- 0.1515873372554779\n",
            "Loss- 0.14006635546684265\n",
            "Loss- 0.1285453587770462\n",
            "Loss- 0.11702437698841095\n",
            "Loss- 0.1060912236571312\n",
            "Loss- 0.09681284427642822\n",
            "Loss- 0.08908725529909134\n",
            "Loss- 0.08227583020925522\n",
            "Loss- 0.07638873159885406\n",
            "Loss- 0.07160007208585739\n",
            "Loss- 0.06747635453939438\n",
            "Loss- 0.06395438313484192\n",
            "Loss- 0.06097004935145378\n",
            "Loss- 0.05845819041132927\n",
            "Loss- 0.05635259300470352\n",
            "Loss- 0.0545857772231102\n",
            "Loss- 0.053148526698350906\n",
            "Loss- 0.05181945487856865\n",
            "Loss- 0.05069301277399063\n",
            "Loss- 0.0498228520154953\n",
            "Loss- 0.04895269125699997\n",
            "Loss- 0.04819351062178612\n",
            "Loss- 0.047531817108392715\n",
            "Loss- 0.04692792519927025\n",
            "Loss- 0.04642331600189209\n",
            "Loss- 0.04591871052980423\n",
            "Loss- 0.04543796554207802\n",
            "Loss- 0.04503796249628067\n",
            "Loss- 0.04463795945048332\n",
            "Loss- 0.04423796385526657\n",
            "Loss- 0.04383796453475952\n",
            "Loss- 0.04343796148896217\n",
            "Loss- 0.043074630200862885\n",
            "Loss- 0.04272563382983208\n",
            "Loss- 0.04237663000822067\n",
            "Loss- 0.04202762991189957\n",
            "Loss- 0.04167863354086876\n",
            "Loss- 0.04132963344454765\n",
            "Loss- 0.04098063334822655\n",
            "Loss- 0.04063162952661514\n",
            "Loss- 0.040282636880874634\n",
            "Loss- 0.039933640509843826\n",
            "Loss- 0.03958464413881302\n",
            "Loss- 0.03923564404249191\n",
            "Loss- 0.03888664394617081\n",
            "Loss- 0.0385376438498497\n",
            "Loss- 0.03818932920694351\n",
            "Loss- 0.03785243630409241\n",
            "Loss- 0.0375034399330616\n",
            "Loss- 0.037164121866226196\n",
            "Loss- 0.03681822493672371\n",
            "Loss- 0.03647511452436447\n",
            "Loss- 0.03613303601741791\n",
            "Loss- 0.03578609973192215\n",
            "Loss- 0.03544783592224121\n",
            "Loss- 0.035098835825920105\n",
            "Loss- 0.03476089984178543\n",
            "Loss- 0.03441363573074341\n",
            "Loss- 0.03407188132405281\n",
            "Loss- 0.03372843936085701\n",
            "Loss- 0.03338287025690079\n",
            "Loss- 0.033043231815099716\n",
            "Loss- 0.03269423171877861\n",
            "Loss- 0.032357655465602875\n",
            "Loss- 0.03200903534889221\n",
            "Loss- 0.03166864812374115\n",
            "Loss- 0.03132382780313492\n",
            "Loss- 0.030979642644524574\n",
            "Loss- 0.030638623982667923\n",
            "Loss- 0.0302906334400177\n",
            "Loss- 0.029953425750136375\n",
            "Loss- 0.02960442565381527\n",
            "Loss- 0.029265418648719788\n",
            "Loss- 0.028919223695993423\n",
            "Loss- 0.028576409444212914\n",
            "Loss- 0.028234025463461876\n",
            "Loss- 0.02788739837706089\n",
            "Loss- 0.02754882536828518\n",
            "Loss- 0.027199819684028625\n",
            "Loss- 0.026862185448408127\n",
            "Loss- 0.02651461586356163\n",
            "Loss- 0.026173178106546402\n",
            "Loss- 0.025829419493675232\n",
            "Loss- 0.02548416517674923\n",
            "Loss- 0.025144213810563087\n",
            "Loss- 0.02479521557688713\n"
          ]
        }
      ]
    },
    {
      "cell_type": "code",
      "source": [
        "model_0.state_dict()"
      ],
      "metadata": {
        "colab": {
          "base_uri": "https://localhost:8080/"
        },
        "id": "RmcEV8QTSUgW",
        "outputId": "ddf1a38d-3125-4f4c-cbea-ad356c63dc09"
      },
      "execution_count": 52,
      "outputs": [
        {
          "output_type": "execute_result",
          "data": {
            "text/plain": [
              "OrderedDict([('weight', tensor([0.5784])), ('bias', tensor([0.3513]))])"
            ]
          },
          "metadata": {},
          "execution_count": 52
        }
      ]
    },
    {
      "cell_type": "code",
      "source": [],
      "metadata": {
        "id": "G4m31rUSZYoP"
      },
      "execution_count": 52,
      "outputs": []
    },
    {
      "cell_type": "code",
      "source": [
        "model_0.state_dict()"
      ],
      "metadata": {
        "colab": {
          "base_uri": "https://localhost:8080/"
        },
        "id": "Kv11WVTPcdZn",
        "outputId": "955e6b68-4123-41de-df47-8aa90d16d671"
      },
      "execution_count": 53,
      "outputs": [
        {
          "output_type": "execute_result",
          "data": {
            "text/plain": [
              "OrderedDict([('weight', tensor([0.5784])), ('bias', tensor([0.3513]))])"
            ]
          },
          "metadata": {},
          "execution_count": 53
        }
      ]
    },
    {
      "cell_type": "code",
      "source": [
        "plot_predictions(predictions= y_preds);"
      ],
      "metadata": {
        "colab": {
          "base_uri": "https://localhost:8080/",
          "height": 599
        },
        "id": "sbxI_wTocgtC",
        "outputId": "60c4e957-1f93-494c-9463-fe49401694ec"
      },
      "execution_count": 54,
      "outputs": [
        {
          "output_type": "display_data",
          "data": {
            "text/plain": [
              "<Figure size 1000x700 with 1 Axes>"
            ],
            "image/png": "[encoded data removed]"
          },
          "metadata": {}
        }
      ]
    },
    {
      "cell_type": "code",
      "source": [],
      "metadata": {
        "id": "kg0gyc7mcpmS"
      },
      "execution_count": 54,
      "outputs": []
    },
    {
      "cell_type": "code",
      "source": [
        "torch.manual_seed(42)\n",
        "\n",
        "epochs = 200\n",
        "\n",
        "#Track different values\n",
        "\n",
        "epoch_count= []\n",
        "loss_values= []\n",
        "test_loss_values= []\n",
        "\n",
        "for epoch in range(epochs+1):  # loop from 0 to 100\n",
        "    model_0.train()\n",
        "    y_pred = model_0(X_train)\n",
        "    loss = loss_fn(y_pred, Y_train)\n",
        "\n",
        "    # update weights\n",
        "    optimizer.zero_grad()\n",
        "    loss.backward()\n",
        "    optimizer.step()\n",
        "\n",
        "    # evaluation step\n",
        "    model_0.eval()\n",
        "    with torch.inference_mode():\n",
        "        test_pred = model_0(X_test)\n",
        "        test_loss = loss_fn(test_pred, Y_test)\n",
        "\n",
        "    # print every 10 epochs\n",
        "    if epoch % 10 == 0:\n",
        "        epoch_count.append(epoch)\n",
        "        loss_values.append(loss)\n",
        "        test_loss_values.append(test_loss )\n",
        "        print(f\"Epoch: {epoch} | Train Loss: {loss:.4f} | Test Loss: {test_loss:.4f}\")\n",
        ""
      ],
      "metadata": {
        "colab": {
          "base_uri": "https://localhost:8080/"
        },
        "id": "81kN5Unttzjr",
        "outputId": "3b33d757-975a-43a1-88af-bb3ee529d97c"
      },
      "execution_count": 55,
      "outputs": [
        {
          "output_type": "stream",
          "name": "stdout",
          "text": [
            "Epoch: 0 | Train Loss: 0.0245 | Test Loss: 0.0565\n",
            "Epoch: 10 | Train Loss: 0.0210 | Test Loss: 0.0482\n",
            "Epoch: 20 | Train Loss: 0.0176 | Test Loss: 0.0406\n",
            "Epoch: 30 | Train Loss: 0.0142 | Test Loss: 0.0323\n",
            "Epoch: 40 | Train Loss: 0.0107 | Test Loss: 0.0241\n",
            "Epoch: 50 | Train Loss: 0.0073 | Test Loss: 0.0165\n",
            "Epoch: 60 | Train Loss: 0.0039 | Test Loss: 0.0082\n",
            "Epoch: 70 | Train Loss: 0.0089 | Test Loss: 0.0050\n",
            "Epoch: 80 | Train Loss: 0.0089 | Test Loss: 0.0050\n",
            "Epoch: 90 | Train Loss: 0.0089 | Test Loss: 0.0050\n",
            "Epoch: 100 | Train Loss: 0.0089 | Test Loss: 0.0050\n",
            "Epoch: 110 | Train Loss: 0.0089 | Test Loss: 0.0050\n",
            "Epoch: 120 | Train Loss: 0.0089 | Test Loss: 0.0050\n",
            "Epoch: 130 | Train Loss: 0.0089 | Test Loss: 0.0050\n",
            "Epoch: 140 | Train Loss: 0.0089 | Test Loss: 0.0050\n",
            "Epoch: 150 | Train Loss: 0.0089 | Test Loss: 0.0050\n",
            "Epoch: 160 | Train Loss: 0.0089 | Test Loss: 0.0050\n",
            "Epoch: 170 | Train Loss: 0.0089 | Test Loss: 0.0050\n",
            "Epoch: 180 | Train Loss: 0.0089 | Test Loss: 0.0050\n",
            "Epoch: 190 | Train Loss: 0.0089 | Test Loss: 0.0050\n",
            "Epoch: 200 | Train Loss: 0.0089 | Test Loss: 0.0050\n"
          ]
        }
      ]
    },
    {
      "cell_type": "code",
      "source": [
        "plot_predictions(predictions= y_preds);"
      ],
      "metadata": {
        "colab": {
          "base_uri": "https://localhost:8080/",
          "height": 599
        },
        "id": "8_3WIoHAu3yX",
        "outputId": "8957cc9c-7f7e-4017-ce7b-db2f2a327d13"
      },
      "execution_count": 56,
      "outputs": [
        {
          "output_type": "display_data",
          "data": {
            "text/plain": [
              "<Figure size 1000x700 with 1 Axes>"
            ],
            "image/png": "[encoded data removed]"
          },
          "metadata": {}
        }
      ]
    },
    {
      "cell_type": "code",
      "source": [],
      "metadata": {
        "id": "J5dvcrY1ykEp"
      },
      "execution_count": 56,
      "outputs": []
    },
    {
      "cell_type": "code",
      "source": [
        "#Plot the loss curve\n",
        "\n",
        "import numpy as np\n",
        "plt.plot(epoch_count, np.array(torch.tensor(loss_values).numpy()), label= \"Train_loss\")\n",
        "plt.plot(epoch_count, test_loss_values, label= \"Test_loss\")\n",
        "plt.title(\"Training and test loss curve\")\n",
        "plt.ylabel(\"Loss\")\n",
        "plt.xlabel(\"Epoch\")\n",
        "plt.legend();\n",
        "\n"
      ],
      "metadata": {
        "colab": {
          "base_uri": "https://localhost:8080/",
          "height": 472
        },
        "id": "zQ3ZDxy_ymsW",
        "outputId": "88c97f38-0578-4191-b367-33d33818e392"
      },
      "execution_count": 57,
      "outputs": [
        {
          "output_type": "display_data",
          "data": {
            "text/plain": [
              "<Figure size 640x480 with 1 Axes>"
            ],
            "image/png": "[encoded data removed]"
          },
          "metadata": {}
        }
      ]
    },
    {
      "cell_type": "markdown",
      "source": [
        "### Saving the model\n",
        "\n",
        ">There are 3 main methods you should about for saving and loading in pytorch\n",
        "1. torch.save() - allow you to savea  pytorch Object in python's pickle forma\n",
        "2. torch.load()- allows you to save pytorch object\n",
        "3. torch.nn.Module.load_state_dict()- this allow you to model save state dict\n",
        "\n"
      ],
      "metadata": {
        "id": "loEh90nmB2mq"
      }
    },
    {
      "cell_type": "code",
      "source": [
        "#Saving our pytorch Model\n",
        "\n",
        "from pathlib import Path\n",
        "\n",
        "\n",
        "#1 create a model directory\n",
        "\n",
        "MODEL_PATH= Path(\"models\")\n",
        "MODEL_PATH.mkdir(parents= True, exist_ok=True)\n",
        "\n",
        "#2. Create model save path\n",
        "\n",
        "MODEL_NAME= \"01_Pytorch_workflow.pth\"\n",
        "\n",
        "MODEL_SAVE_PATH= MODEL_PATH / MODEL_NAME\n",
        "\n",
        "#3. Save the model state dict\n",
        "\n",
        "print(f\"Saving Model to: {MODEL_SAVE_PATH} \")\n",
        "\n",
        "torch.save(obj= model_0.state_dict(), f=MODEL_SAVE_PATH)\n",
        "\n",
        "\n",
        "\n",
        "\n"
      ],
      "metadata": {
        "colab": {
          "base_uri": "https://localhost:8080/"
        },
        "id": "Ha_d_SJgIDQi",
        "outputId": "9a1a397c-9f73-498a-9617-47877defb869"
      },
      "execution_count": 58,
      "outputs": [
        {
          "output_type": "stream",
          "name": "stdout",
          "text": [
            "Saving Model to: models/01_Pytorch_workflow.pth \n"
          ]
        }
      ]
    },
    {
      "cell_type": "code",
      "source": [
        "!ls -1 models"
      ],
      "metadata": {
        "colab": {
          "base_uri": "https://localhost:8080/"
        },
        "id": "vD_ECwdJKau9",
        "outputId": "cde04631-1114-4b16-c3d7-6724beb189d6"
      },
      "execution_count": 59,
      "outputs": [
        {
          "output_type": "stream",
          "name": "stdout",
          "text": [
            "01_Pytorch_workflow.pth\n"
          ]
        }
      ]
    },
    {
      "cell_type": "code",
      "source": [
        "model_0.state_dict()"
      ],
      "metadata": {
        "colab": {
          "base_uri": "https://localhost:8080/"
        },
        "id": "117BF99XKfOu",
        "outputId": "b3130d36-00e3-4064-b39b-9e134b3fe685"
      },
      "execution_count": 60,
      "outputs": [
        {
          "output_type": "execute_result",
          "data": {
            "text/plain": [
              "OrderedDict([('weight', tensor([0.6951])), ('bias', tensor([0.2993]))])"
            ]
          },
          "metadata": {},
          "execution_count": 60
        }
      ]
    },
    {
      "cell_type": "markdown",
      "source": [
        "### Loading a Pytorch model\n",
        "\n",
        "Since we have saved our model's state_dict() rather than the entire model, we will create a new instance of our model class and load the saved state_dict() into that"
      ],
      "metadata": {
        "id": "NQtXGrmiNZuz"
      }
    },
    {
      "cell_type": "code",
      "source": [
        "model_0.state_dict()"
      ],
      "metadata": {
        "colab": {
          "base_uri": "https://localhost:8080/"
        },
        "id": "TKg3musSGqEf",
        "outputId": "d0723445-8544-4a2a-e31d-92931235c8f3"
      },
      "execution_count": 61,
      "outputs": [
        {
          "output_type": "execute_result",
          "data": {
            "text/plain": [
              "OrderedDict([('weight', tensor([0.6951])), ('bias', tensor([0.2993]))])"
            ]
          },
          "metadata": {},
          "execution_count": 61
        }
      ]
    },
    {
      "cell_type": "code",
      "source": [
        "# To laod in saved state_dict() we have to instantiate a new instance of our model class\n",
        "\n",
        "loaded_model_0= LinearRegressionModel()\n",
        "loaded_model_0.load_state_dict(torch.load(f=MODEL_SAVE_PATH))\n",
        "\n",
        "\n"
      ],
      "metadata": {
        "colab": {
          "base_uri": "https://localhost:8080/"
        },
        "id": "H0JD61GKN9Aj",
        "outputId": "2a91c03e-398d-4e67-9da2-8f0056230ea0"
      },
      "execution_count": 62,
      "outputs": [
        {
          "output_type": "execute_result",
          "data": {
            "text/plain": [
              "<All keys matched successfully>"
            ]
          },
          "metadata": {},
          "execution_count": 62
        }
      ]
    },
    {
      "cell_type": "code",
      "source": [
        "loaded_model_0.state_dict()"
      ],
      "metadata": {
        "colab": {
          "base_uri": "https://localhost:8080/"
        },
        "id": "blS4sP_POTm5",
        "outputId": "92f15aac-a53d-42a7-d804-b4decc29e8c4"
      },
      "execution_count": 63,
      "outputs": [
        {
          "output_type": "execute_result",
          "data": {
            "text/plain": [
              "OrderedDict([('weight', tensor([0.6951])), ('bias', tensor([0.2993]))])"
            ]
          },
          "metadata": {},
          "execution_count": 63
        }
      ]
    },
    {
      "cell_type": "code",
      "source": [
        "#Make some prediction with our loaded model\n",
        "\n",
        "loaded_model_0.eval()\n",
        "with torch.inference_mode():\n",
        "  loaded_model_preds= loaded_model_0(X_test)\n",
        "\n",
        "loaded_model_preds\n"
      ],
      "metadata": {
        "colab": {
          "base_uri": "https://localhost:8080/"
        },
        "id": "TsN3IDK4OY2c",
        "outputId": "114a0930-d723-4320-8475-d7cc0db305a2"
      },
      "execution_count": 64,
      "outputs": [
        {
          "output_type": "execute_result",
          "data": {
            "text/plain": [
              "tensor([[0.8554],\n",
              "        [0.8693],\n",
              "        [0.8832],\n",
              "        [0.8971],\n",
              "        [0.9110],\n",
              "        [0.9249],\n",
              "        [0.9388],\n",
              "        [0.9527],\n",
              "        [0.9666],\n",
              "        [0.9805]])"
            ]
          },
          "metadata": {},
          "execution_count": 64
        }
      ]
    },
    {
      "cell_type": "code",
      "source": [
        "#make some model preds\n",
        "\n",
        "model_0.eval()\n",
        "with torch.inference_mode():\n",
        "  y_preds= model_0(X_test)\n",
        "\n",
        "y_preds"
      ],
      "metadata": {
        "colab": {
          "base_uri": "https://localhost:8080/"
        },
        "id": "RRcImuMAQGbd",
        "outputId": "1de79596-7f5f-4741-c5f1-df57429373c9"
      },
      "execution_count": 65,
      "outputs": [
        {
          "output_type": "execute_result",
          "data": {
            "text/plain": [
              "tensor([[0.8554],\n",
              "        [0.8693],\n",
              "        [0.8832],\n",
              "        [0.8971],\n",
              "        [0.9110],\n",
              "        [0.9249],\n",
              "        [0.9388],\n",
              "        [0.9527],\n",
              "        [0.9666],\n",
              "        [0.9805]])"
            ]
          },
          "metadata": {},
          "execution_count": 65
        }
      ]
    },
    {
      "cell_type": "code",
      "source": [
        "y_preds== loaded_model_preds"
      ],
      "metadata": {
        "colab": {
          "base_uri": "https://localhost:8080/"
        },
        "id": "CMcHVA0jQkyf",
        "outputId": "95e0e4c5-88cd-428c-f2b8-5f8c770258d2"
      },
      "execution_count": 66,
      "outputs": [
        {
          "output_type": "execute_result",
          "data": {
            "text/plain": [
              "tensor([[True],\n",
              "        [True],\n",
              "        [True],\n",
              "        [True],\n",
              "        [True],\n",
              "        [True],\n",
              "        [True],\n",
              "        [True],\n",
              "        [True],\n",
              "        [True]])"
            ]
          },
          "metadata": {},
          "execution_count": 66
        }
      ]
    },
    {
      "cell_type": "code",
      "source": [],
      "metadata": {
        "id": "b6bKfMxIQmXQ"
      },
      "execution_count": 66,
      "outputs": []
    },
    {
      "cell_type": "markdown",
      "source": [
        "###Putting it all together\n",
        "\n",
        "Let's go back through  the steps above and see it all in one place\n",
        "\n",
        "  \n"
      ],
      "metadata": {
        "id": "YYgwJ4YqRUUW"
      }
    },
    {
      "cell_type": "code",
      "source": [
        "#import Pytorch and matplotib\n",
        "\n",
        "import torch\n",
        "import matplotlib.pyplot as plt\n",
        "from torch import nn\n",
        "\n",
        "#check device version\n",
        "\n",
        "torch.__version__"
      ],
      "metadata": {
        "colab": {
          "base_uri": "https://localhost:8080/",
          "height": 35
        },
        "id": "YPRe_bFZRaha",
        "outputId": "a7ee1fa9-62be-48bd-b864-2f36d4c79f84"
      },
      "execution_count": 67,
      "outputs": [
        {
          "output_type": "execute_result",
          "data": {
            "text/plain": [
              "'2.8.0+cu126'"
            ],
            "application/vnd.google.colaboratory.intrinsic+json": {
              "type": "string"
            }
          },
          "metadata": {},
          "execution_count": 67
        }
      ]
    },
    {
      "cell_type": "code",
      "source": [],
      "metadata": {
        "id": "XfQp6T4WSBLu"
      },
      "execution_count": 67,
      "outputs": []
    },
    {
      "cell_type": "markdown",
      "source": [
        "### Create device agnostic code.\n",
        "\n",
        "This means if we've got access to a GPU, our code will use it(for potentially faster computing)\n",
        "\n",
        "If no gpu is available, the code will defaul to using CPU"
      ],
      "metadata": {
        "id": "fK3stbCTSOL_"
      }
    },
    {
      "cell_type": "code",
      "source": [
        "#setup device agnostic code\n",
        "\n",
        "device= \"cuda\" if torch.cuda.is_available() else \"cpu\"\n",
        "print(f\"using device: {device}\")"
      ],
      "metadata": {
        "colab": {
          "base_uri": "https://localhost:8080/"
        },
        "id": "e0ftW78DSq-f",
        "outputId": "37af952c-3efd-46c4-e0f0-a980784b8bbb"
      },
      "execution_count": 68,
      "outputs": [
        {
          "output_type": "stream",
          "name": "stdout",
          "text": [
            "using device: cuda\n"
          ]
        }
      ]
    },
    {
      "cell_type": "code",
      "source": [
        "!nvidia-smi"
      ],
      "metadata": {
        "colab": {
          "base_uri": "https://localhost:8080/"
        },
        "id": "4SwAInjMS9-t",
        "outputId": "4ddc4134-8241-4f52-f1f2-60346ac887c7"
      },
      "execution_count": 69,
      "outputs": [
        {
          "output_type": "stream",
          "name": "stdout",
          "text": [
            "Sat Sep 13 09:00:23 2025       \n",
            "+-----------------------------------------------------------------------------------------+\n",
            "| NVIDIA-SMI 550.54.15              Driver Version: 550.54.15      CUDA Version: 12.4     |\n",
            "|-----------------------------------------+------------------------+----------------------+\n",
            "| GPU  Name                 Persistence-M | Bus-Id          Disp.A | Volatile Uncorr. ECC |\n",
            "| Fan  Temp   Perf          Pwr:Usage/Cap |           Memory-Usage | GPU-Util  Compute M. |\n",
            "|                                         |                        |               MIG M. |\n",
            "|=========================================+========================+======================|\n",
            "|   0  Tesla T4                       Off |   00000000:00:04.0 Off |                    0 |\n",
            "| N/A   51C    P8             11W /   70W |       2MiB /  15360MiB |      0%      Default |\n",
            "|                                         |                        |                  N/A |\n",
            "+-----------------------------------------+------------------------+----------------------+\n",
            "                                                                                         \n",
            "+-----------------------------------------------------------------------------------------+\n",
            "| Processes:                                                                              |\n",
            "|  GPU   GI   CI        PID   Type   Process name                              GPU Memory |\n",
            "|        ID   ID                                                               Usage      |\n",
            "|=========================================================================================|\n",
            "|  No running processes found                                                             |\n",
            "+-----------------------------------------------------------------------------------------+\n"
          ]
        }
      ]
    },
    {
      "cell_type": "code",
      "source": [
        "### Data"
      ],
      "metadata": {
        "id": "TVJDGrsSTeEd"
      },
      "execution_count": 70,
      "outputs": []
    },
    {
      "cell_type": "code",
      "source": [
        "#create some data using using linear regression formula of y= weight * X + Bias\n",
        "\n",
        "weight= 0.7\n",
        "bias= 0.3\n",
        "\n",
        "#create range value\n",
        "\n",
        "start= 0\n",
        "end= 1\n",
        "step= 0.02\n",
        "\n",
        "#Create X and y features\n",
        "\n",
        "X= torch.arange(start, end, step).unsqueeze(dim=1) #without unsqueeze error will occur\n",
        "\n",
        "y= weight * X + bias\n",
        "\n",
        "X[:10], y[:10]\n"
      ],
      "metadata": {
        "colab": {
          "base_uri": "https://localhost:8080/"
        },
        "id": "XZ01mZHQToWh",
        "outputId": "d172e0f6-f5bc-4aea-ee91-a36d5eaf8546"
      },
      "execution_count": 72,
      "outputs": [
        {
          "output_type": "execute_result",
          "data": {
            "text/plain": [
              "(tensor([[0.0000],\n",
              "         [0.0200],\n",
              "         [0.0400],\n",
              "         [0.0600],\n",
              "         [0.0800],\n",
              "         [0.1000],\n",
              "         [0.1200],\n",
              "         [0.1400],\n",
              "         [0.1600],\n",
              "         [0.1800]]),\n",
              " tensor([[0.3000],\n",
              "         [0.3140],\n",
              "         [0.3280],\n",
              "         [0.3420],\n",
              "         [0.3560],\n",
              "         [0.3700],\n",
              "         [0.3840],\n",
              "         [0.3980],\n",
              "         [0.4120],\n",
              "         [0.4260]]))"
            ]
          },
          "metadata": {},
          "execution_count": 72
        }
      ]
    },
    {
      "cell_type": "code",
      "source": [
        "#split the data\n",
        "\n",
        "train_split= int(0.8*len(X))\n",
        "X_train, y_train= X[:train_split], y[:train_split]\n",
        "X_test, y_test= X[train_split: ], y[train_split:]\n",
        "\n",
        "len(X_train), len(y_train), len(X_test), len(y_test)"
      ],
      "metadata": {
        "colab": {
          "base_uri": "https://localhost:8080/"
        },
        "id": "3ON94mqdUF6f",
        "outputId": "b95e566d-f023-4499-94e1-2dc5585b5199"
      },
      "execution_count": 75,
      "outputs": [
        {
          "output_type": "execute_result",
          "data": {
            "text/plain": [
              "(40, 40, 10, 10)"
            ]
          },
          "metadata": {},
          "execution_count": 75
        }
      ]
    },
    {
      "cell_type": "code",
      "source": [
        "#Building a function to visualise our model\n",
        "def plot_predictions(train_data= X_train,\n",
        "                     train_labels=Y_train,\n",
        "                     test_data= X_test,\n",
        "                     test_labels= Y_test,\n",
        "                     predictions= None):\n",
        "\n",
        "  \"\"\"\n",
        "  Plots training data and test data and compares predictions\n",
        "  \"\"\"\n",
        "  plt.figure(figsize=(10, 7))\n",
        "\n",
        "#plot training data in blue\n",
        "\n",
        "  plt.scatter(train_data, train_labels, c=\"b\", s=4, label=\"Training Data\")\n",
        "\n",
        "#plot test data in green\n",
        "  plt.scatter(test_data, test_labels, c=\"g\", s=4, label=\"Test Data\"  )\n",
        "\n",
        "#Are there predictions\n",
        "\n",
        "  if predictions is not None:\n",
        "  #plot the predictions if they exist\n",
        "    plt.scatter(test_data, predictions, c=\"r\", s= 4, label= \"predictions\")\n",
        "\n",
        "#show the legends\n",
        "\n",
        "  plt.legend(prop={\"size\": 14});"
      ],
      "metadata": {
        "id": "-2o-EcdPWxUw"
      },
      "execution_count": 77,
      "outputs": []
    },
    {
      "cell_type": "code",
      "source": [
        "#plot the data\n",
        "#Note: If ou don't  have the plot_predictions() function loaded it will through an error\n",
        "\n",
        "plot_predictions(X_train, y_train,X_test, y_test)"
      ],
      "metadata": {
        "colab": {
          "base_uri": "https://localhost:8080/",
          "height": 599
        },
        "id": "iPT8rcXBVuz5",
        "outputId": "9943ccea-2264-4048-af07-dc99eb4e3f12"
      },
      "execution_count": 76,
      "outputs": [
        {
          "output_type": "display_data",
          "data": {
            "text/plain": [
              "<Figure size 1000x700 with 1 Axes>"
            ],
            "image/png": "[encoded data removed]"
          },
          "metadata": {}
        }
      ]
    },
    {
      "cell_type": "markdown",
      "source": [
        "### Building a pytorch Linear Model"
      ],
      "metadata": {
        "id": "Hx2rDYVmXDbj"
      }
    },
    {
      "cell_type": "code",
      "source": [
        "# Create a linear model by subclassing the nn.module\n",
        "\n",
        "class LinearRegressionModelV2(nn.Module):\n",
        "  def __init__(self):\n",
        "    super().__init__()\n",
        "    #Use nn.Linear() for creating the model parameters/ Also called: linear transform, probing layer, fully connected layer, dense layer\n",
        "\n",
        "    self.linear_layer = nn.Linear(in_features=1,\n",
        "                                  out_features=1)\n",
        "\n",
        "  def forward(self, x: torch.Tensor) -> torch.Tensor:\n",
        "    return self.linear_layer(x)\n",
        "\n",
        "#Set manual seed\n",
        "\n",
        "torch.manual_seed(42)\n",
        "\n",
        "model_1 = LinearRegressionModelV2()\n",
        "model_1, model_1.state_dict()\n"
      ],
      "metadata": {
        "colab": {
          "base_uri": "https://localhost:8080/"
        },
        "id": "YK1rmupLWjmq",
        "outputId": "d6fc921f-4fe7-42dd-abc2-9889cf4c421e"
      },
      "execution_count": 90,
      "outputs": [
        {
          "output_type": "execute_result",
          "data": {
            "text/plain": [
              "(LinearRegressionModelV2(\n",
              "   (linear_layer): Linear(in_features=1, out_features=1, bias=True)\n",
              " ),\n",
              " OrderedDict([('linear_layer.weight', tensor([[0.7645]])),\n",
              "              ('linear_layer.bias', tensor([0.8300]))]))"
            ]
          },
          "metadata": {},
          "execution_count": 90
        }
      ]
    },
    {
      "cell_type": "code",
      "source": [
        "model_1.state_dict()"
      ],
      "metadata": {
        "colab": {
          "base_uri": "https://localhost:8080/"
        },
        "id": "imhJlvIrXCH9",
        "outputId": "2359eb78-0f30-4d55-c061-4999f776716b"
      },
      "execution_count": 91,
      "outputs": [
        {
          "output_type": "execute_result",
          "data": {
            "text/plain": [
              "OrderedDict([('linear_layer.weight', tensor([[0.7645]])),\n",
              "             ('linear_layer.bias', tensor([0.8300]))])"
            ]
          },
          "metadata": {},
          "execution_count": 91
        }
      ]
    },
    {
      "cell_type": "code",
      "source": [
        "#Check the model current device\n",
        "\n",
        "next(model_1.parameters()).device"
      ],
      "metadata": {
        "colab": {
          "base_uri": "https://localhost:8080/"
        },
        "id": "KdmbjKwJa7cV",
        "outputId": "d591a8c5-9966-48e7-f309-76f1b7631dd4"
      },
      "execution_count": 92,
      "outputs": [
        {
          "output_type": "execute_result",
          "data": {
            "text/plain": [
              "device(type='cpu')"
            ]
          },
          "metadata": {},
          "execution_count": 92
        }
      ]
    },
    {
      "cell_type": "code",
      "source": [
        "#Set the model to use the target device\n",
        "\n",
        "model_1.to(device)\n",
        "next(model_1.parameters()).device"
      ],
      "metadata": {
        "colab": {
          "base_uri": "https://localhost:8080/"
        },
        "id": "lO0BjKnVXCFc",
        "outputId": "b1e83bc3-94a9-4eed-a8bb-b7170bcfd5d2"
      },
      "execution_count": 93,
      "outputs": [
        {
          "output_type": "execute_result",
          "data": {
            "text/plain": [
              "device(type='cuda', index=0)"
            ]
          },
          "metadata": {},
          "execution_count": 93
        }
      ]
    },
    {
      "cell_type": "markdown",
      "source": [
        "### Training\n",
        "\n",
        "1. Loss functions\n",
        "2. optimizer\n",
        "3. Training Loop\n",
        "4. Testing loop\n",
        "\n"
      ],
      "metadata": {
        "id": "64sWd48xbUjP"
      }
    },
    {
      "cell_type": "code",
      "source": [
        "#set up loss function\n",
        "loss_fn= nn.L1Loss() #same a MAE\n",
        "\n",
        "#setup our optimizer\n",
        "\n",
        "optimizer= torch.optim.SGD(params=model_1.parameters(), lr=0.01)"
      ],
      "metadata": {
        "id": "r4F55_FkW727"
      },
      "execution_count": 94,
      "outputs": []
    },
    {
      "cell_type": "code",
      "source": [
        "#let's write a training loop\n",
        "\n",
        "torch.manual_seed(42)\n",
        "\n",
        "epochs= 200\n",
        "\n",
        "#put data on the target device\n",
        "X_train= X_train.to(device)\n",
        "y_train= y_train.to(device)\n",
        "X_test= X_test.to(device)\n",
        "y_test= y_test.to(device)\n",
        "\n",
        "for epoch in range(epochs):\n",
        "  model_1.train()\n",
        "\n",
        "  #forward pass\n",
        "  y_pred= model_1(X_train)\n",
        "\n",
        "  #calculate the loss\n",
        "  loss= loss_fn(y_pred, y_train)\n",
        "\n",
        "  #Optimizer zero grad\n",
        "\n",
        "  optimizer.zero_grad()\n",
        "\n",
        "  #back propagation\n",
        "\n",
        "  loss.backward()\n",
        "\n",
        "  #optimize the parameter\n",
        "\n",
        "  optimizer.step()\n",
        "\n",
        "  #testing\n",
        "\n",
        "  model_1.eval()\n",
        "\n",
        "  with torch.inference_mode():\n",
        "    test_pred= model_1(X_test)\n",
        "\n",
        "    test_loss= loss_fn(test_pred, y_test)\n",
        "\n",
        "  #printout what's happenig\n",
        "\n",
        "  if epoch % 10 ==0:\n",
        "    print(f\"Epoch:{epoch}|Loss:{loss}| test Loss:{test_loss}\" )\n",
        "\n"
      ],
      "metadata": {
        "colab": {
          "base_uri": "https://localhost:8080/"
        },
        "id": "ZAi8PXRbXBRm",
        "outputId": "094590f2-5f39-4cab-fa92-dca4744f76c1"
      },
      "execution_count": 95,
      "outputs": [
        {
          "output_type": "stream",
          "name": "stdout",
          "text": [
            "Epoch:0|Loss:0.5551779866218567| test Loss:0.5739762187004089\n",
            "Epoch:10|Loss:0.439968079328537| test Loss:0.4392664134502411\n",
            "Epoch:20|Loss:0.3247582018375397| test Loss:0.30455657839775085\n",
            "Epoch:30|Loss:0.20954833924770355| test Loss:0.16984669864177704\n",
            "Epoch:40|Loss:0.09433845430612564| test Loss:0.03513690456748009\n",
            "Epoch:50|Loss:0.023886388167738914| test Loss:0.04784907028079033\n",
            "Epoch:60|Loss:0.019956795498728752| test Loss:0.045803118497133255\n",
            "Epoch:70|Loss:0.016517987474799156| test Loss:0.037530567497015\n",
            "Epoch:80|Loss:0.013089174404740334| test Loss:0.02994490973651409\n",
            "Epoch:90|Loss:0.009653178043663502| test Loss:0.02167237363755703\n",
            "Epoch:100|Loss:0.006215683650225401| test Loss:0.014086711220443249\n",
            "Epoch:110|Loss:0.00278724217787385| test Loss:0.005814164876937866\n",
            "Epoch:120|Loss:0.0012645035749301314| test Loss:0.013801801018416882\n",
            "Epoch:130|Loss:0.0012645035749301314| test Loss:0.013801801018416882\n",
            "Epoch:140|Loss:0.0012645035749301314| test Loss:0.013801801018416882\n",
            "Epoch:150|Loss:0.0012645035749301314| test Loss:0.013801801018416882\n",
            "Epoch:160|Loss:0.0012645035749301314| test Loss:0.013801801018416882\n",
            "Epoch:170|Loss:0.0012645035749301314| test Loss:0.013801801018416882\n",
            "Epoch:180|Loss:0.0012645035749301314| test Loss:0.013801801018416882\n",
            "Epoch:190|Loss:0.0012645035749301314| test Loss:0.013801801018416882\n"
          ]
        }
      ]
    },
    {
      "cell_type": "code",
      "source": [
        "model_1.state_dict()"
      ],
      "metadata": {
        "colab": {
          "base_uri": "https://localhost:8080/"
        },
        "id": "hdhR12iQeI4v",
        "outputId": "96b42c5b-8b07-408d-b199-4ea2e7aa7fb5"
      },
      "execution_count": 96,
      "outputs": [
        {
          "output_type": "execute_result",
          "data": {
            "text/plain": [
              "OrderedDict([('linear_layer.weight', tensor([[0.6968]], device='cuda:0')),\n",
              "             ('linear_layer.bias', tensor([0.3025], device='cuda:0'))])"
            ]
          },
          "metadata": {},
          "execution_count": 96
        }
      ]
    },
    {
      "cell_type": "code",
      "source": [],
      "metadata": {
        "id": "oRY1Bl-vf-cn"
      },
      "execution_count": 98,
      "outputs": []
    },
    {
      "cell_type": "markdown",
      "source": [
        "### Making and evaluating Predictions"
      ],
      "metadata": {
        "id": "hK1VFbr4gq1g"
      }
    },
    {
      "cell_type": "code",
      "source": [
        "#Turn model into evaluation mode\n",
        "\n",
        "model_1.eval()\n",
        "\n",
        "# make predictions on the test data\n",
        "\n",
        "with torch.inference_mode():\n",
        "  y_preds= model_1(X_test)\n",
        "y_preds"
      ],
      "metadata": {
        "colab": {
          "base_uri": "https://localhost:8080/"
        },
        "id": "tVrV12yugOq-",
        "outputId": "ee68ea8c-3a29-426e-db23-34a07e3bdd9d"
      },
      "execution_count": 100,
      "outputs": [
        {
          "output_type": "execute_result",
          "data": {
            "text/plain": [
              "tensor([[0.8600],\n",
              "        [0.8739],\n",
              "        [0.8878],\n",
              "        [0.9018],\n",
              "        [0.9157],\n",
              "        [0.9296],\n",
              "        [0.9436],\n",
              "        [0.9575],\n",
              "        [0.9714],\n",
              "        [0.9854]], device='cuda:0')"
            ]
          },
          "metadata": {},
          "execution_count": 100
        }
      ]
    },
    {
      "cell_type": "code",
      "source": [
        "#Check out our model predictions visually\n",
        "\n",
        "plot_predictions(predictions= y_preds.cpu())"
      ],
      "metadata": {
        "colab": {
          "base_uri": "https://localhost:8080/",
          "height": 599
        },
        "id": "fbJyyzRjhKWB",
        "outputId": "3a9b2b75-b2d8-46ed-8581-d07437684854"
      },
      "execution_count": 103,
      "outputs": [
        {
          "output_type": "display_data",
          "data": {
            "text/plain": [
              "<Figure size 1000x700 with 1 Axes>"
            ],
            "image/png": "[encoded data removed]"
          },
          "metadata": {}
        }
      ]
    },
    {
      "cell_type": "code",
      "source": [],
      "metadata": {
        "id": "zIN8LWN7hYHV"
      },
      "execution_count": null,
      "outputs": []
    },
    {
      "cell_type": "markdown",
      "source": [
        "###Saving and loading the model\n",
        "\n",
        "\n",
        "\n"
      ],
      "metadata": {
        "id": "pUKk0fMYhyBP"
      }
    },
    {
      "cell_type": "code",
      "source": [
        "from pathlib import Path\n",
        "\n",
        "#create a model directory\n",
        "\n",
        "MODEL_PATH= Path(\"models\")\n",
        "MODEL_PATH.mkdir(parents= True, exist_ok= True)\n",
        "\n",
        "\n",
        "#2. Create a model save path\n",
        "\n",
        "MODEL_NAME= \"01_Pytorch_workflow_model_1.pth\"\n",
        "MODEL_SAVE_PATH= MODEL_PATH/ MODEL_NAME\n",
        "\n",
        "#Save the model state dict\n",
        "\n",
        "print(f\"Saving model to: {MODEL_SAVE_PATH}\")\n",
        "torch.save(obj= model_1.state_dict(),\n",
        "           f=MODEL_SAVE_PATH)\n"
      ],
      "metadata": {
        "colab": {
          "base_uri": "https://localhost:8080/"
        },
        "id": "8O8S4q0Hh5-F",
        "outputId": "bb2e61de-58dd-4e96-d635-7a0838e3d9c7"
      },
      "execution_count": 107,
      "outputs": [
        {
          "output_type": "stream",
          "name": "stdout",
          "text": [
            "Saving model to: models/01_Pytorch_workflow_model_1.pth\n"
          ]
        }
      ]
    },
    {
      "cell_type": "code",
      "source": [
        "#Load a Pytorch Model\n",
        "\n",
        "# create a new instance of linear regression model V2\n",
        "loaded_model_1= LinearRegressionModelV2()\n",
        "\n",
        "#laod the save model_1 state_dict\n",
        "loaded_model_1.load_state_dict(torch.load(MODEL_SAVE_PATH))\n",
        "\n",
        "#put the loaded model to device\n",
        "\n",
        "loaded_model_1.to(device)"
      ],
      "metadata": {
        "colab": {
          "base_uri": "https://localhost:8080/"
        },
        "id": "MeCUpDrPid3a",
        "outputId": "7401dd69-334f-4655-9664-ee7f2ecc6bf7"
      },
      "execution_count": 108,
      "outputs": [
        {
          "output_type": "execute_result",
          "data": {
            "text/plain": [
              "LinearRegressionModelV2(\n",
              "  (linear_layer): Linear(in_features=1, out_features=1, bias=True)\n",
              ")"
            ]
          },
          "metadata": {},
          "execution_count": 108
        }
      ]
    },
    {
      "cell_type": "code",
      "source": [
        "next(loaded_model_1.parameters()).device"
      ],
      "metadata": {
        "colab": {
          "base_uri": "https://localhost:8080/"
        },
        "id": "wiUm8qcblRjI",
        "outputId": "7c83e2aa-e0b5-4da0-a8af-cffe6428d545"
      },
      "execution_count": 109,
      "outputs": [
        {
          "output_type": "execute_result",
          "data": {
            "text/plain": [
              "device(type='cuda', index=0)"
            ]
          },
          "metadata": {},
          "execution_count": 109
        }
      ]
    },
    {
      "cell_type": "code",
      "source": [
        "loaded_model_1.state_dict()"
      ],
      "metadata": {
        "colab": {
          "base_uri": "https://localhost:8080/"
        },
        "id": "9OAhwzUWlbjq",
        "outputId": "ccd41685-030a-4a92-f93e-77487a810dd9"
      },
      "execution_count": 110,
      "outputs": [
        {
          "output_type": "execute_result",
          "data": {
            "text/plain": [
              "OrderedDict([('linear_layer.weight', tensor([[0.6968]], device='cuda:0')),\n",
              "             ('linear_layer.bias', tensor([0.3025], device='cuda:0'))])"
            ]
          },
          "metadata": {},
          "execution_count": 110
        }
      ]
    },
    {
      "cell_type": "code",
      "source": [
        "#Evaluate loaded model\n",
        "\n",
        "loaded_model_1.eval()\n",
        "with torch.inference_mode():\n",
        "  loaded_model_1_preds= loaded_model_1(X_test)\n",
        "\n",
        "y_preds== loaded_model_1_preds"
      ],
      "metadata": {
        "colab": {
          "base_uri": "https://localhost:8080/"
        },
        "id": "xjf8Nbt2lgUS",
        "outputId": "96db0da4-afad-4506-e846-93c888b9f3b7"
      },
      "execution_count": 111,
      "outputs": [
        {
          "output_type": "execute_result",
          "data": {
            "text/plain": [
              "tensor([[True],\n",
              "        [True],\n",
              "        [True],\n",
              "        [True],\n",
              "        [True],\n",
              "        [True],\n",
              "        [True],\n",
              "        [True],\n",
              "        [True],\n",
              "        [True]], device='cuda:0')"
            ]
          },
          "metadata": {},
          "execution_count": 111
        }
      ]
    },
    {
      "cell_type": "code",
      "source": [],
      "metadata": {
        "id": "pwog3X07l5C1"
      },
      "execution_count": null,
      "outputs": []
    }
  ]
}